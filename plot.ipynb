{
 "cells": [
  {
   "cell_type": "code",
   "execution_count": null,
   "metadata": {},
   "outputs": [],
   "source": [
    "import os\n",
    "import matplotlib.pyplot as plt\n",
    "import seaborn as sns\n",
    "sns.set()\n",
    "import pandas as pd\n",
    "import numpy as np"
   ]
  },
  {
   "cell_type": "code",
   "execution_count": null,
   "metadata": {},
   "outputs": [],
   "source": [
    "def plot(**keywords):\n",
    "    if keywords['plot_name']: # plot_nameがあったらグラフ保存モード\n",
    "        import matplotlib\n",
    "        matplotlib.use('Agg')  # Needed to run without X-server\n",
    "    for fpaths, label in zip(keywords['files'], keywords['labels']): \n",
    "        for fpath in fpaths:\n",
    "            if os.path.isdir(fpath): #もしディレクトリなら\n",
    "                fpath = os.path.join(fpath, 'scores.txt') #その中のscores.txtをパスに\n",
    "            if not os.path.exists(fpath):\n",
    "                continue\n",
    "            score = pd.read_csv(fpath, delimiter='\\t') #scores.txtの読み込み\n",
    "            score['steps'] = score['steps'] // 1000 * 1000\n",
    "            score['label'] = label\n",
    "            try:\n",
    "                scores = pd.concat((scores, score))\n",
    "            except:\n",
    "                scores = score\n",
    "        \n",
    "        try:\n",
    "                scores_all = pd.concat((scores_all, scores))\n",
    "        except:\n",
    "                scores_all = scores\n",
    "        del scores\n",
    "    \n",
    "    sns.lineplot(x=keywords['x'], y=keywords['y'], hue='label', data=scores_all)\n",
    "\n",
    "    plt.xlabel('steps') #x軸ラベル\n",
    "    plt.ylabel(keywords['y'])#y軸ラベル\n",
    "    plt.legend(bbox_to_anchor=(1.05, 1), loc='upper left', borderaxespad=0,) #凡例\n",
    "    if keywords['title']: \n",
    "        plt.title(keywords['title']) \n",
    "    #plt.style.use('classic')\n",
    "        \n",
    "    if keywords['plot_name']: # 保存モードのとき\n",
    "        fig_fname = keywords['plot_name'] + '.png' #png形式で保存\n",
    "        plt.savefig(fig_fname, bbox_inches='tight')\n",
    "        print('Saved a figure as {}'.format(fig_fname))\n",
    "    plt.show()\n"
   ]
  },
  {
   "cell_type": "code",
   "execution_count": null,
   "metadata": {},
   "outputs": [],
   "source": [
    "plot(title=game, files=files[game], labels=labels[game], plot_name=None, x=x, y=y)\n",
    "\n",
    "plots(game=game_name, x='steps', y='mean')"
   ]
  }
 ],
 "metadata": {
  "language_info": {
   "codemirror_mode": {
    "name": "ipython",
    "version": 3
   },
   "file_extension": ".py",
   "mimetype": "text/x-python",
   "name": "python",
   "nbconvert_exporter": "python",
   "pygments_lexer": "ipython3",
   "version": "3.8.5-final"
  },
  "orig_nbformat": 2,
  "kernelspec": {
   "name": "python38564bit38ab47955d8c41b485432af7d68e93bc",
   "display_name": "Python 3.8.5 64-bit",
   "language": "python"
  }
 },
 "nbformat": 4,
 "nbformat_minor": 2
}